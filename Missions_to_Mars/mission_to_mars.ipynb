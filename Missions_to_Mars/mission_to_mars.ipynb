{
 "cells": [
  {
   "cell_type": "code",
   "execution_count": 18,
   "metadata": {},
   "outputs": [
    {
     "name": "stdout",
     "output_type": "stream",
     "text": [
      "Collecting webdrivermanager\n",
      "  Downloading webdrivermanager-0.10.0.tar.gz (33 kB)\n",
      "  Installing build dependencies ... \u001b[?25ldone\n",
      "\u001b[?25h  Getting requirements to build wheel ... \u001b[?25ldone\n",
      "\u001b[?25h    Preparing wheel metadata ... \u001b[?25ldone\n",
      "\u001b[?25hRequirement already satisfied, skipping upgrade: tqdm in /opt/anaconda3/lib/python3.8/site-packages (from webdrivermanager) (4.47.0)\n",
      "Requirement already satisfied, skipping upgrade: requests in /opt/anaconda3/lib/python3.8/site-packages (from webdrivermanager) (2.24.0)\n",
      "Collecting appdirs\n",
      "  Downloading appdirs-1.4.4-py2.py3-none-any.whl (9.6 kB)\n",
      "Requirement already satisfied, skipping upgrade: lxml in /opt/anaconda3/lib/python3.8/site-packages (from webdrivermanager) (4.5.2)\n",
      "Requirement already satisfied, skipping upgrade: BeautifulSoup4 in /opt/anaconda3/lib/python3.8/site-packages (from webdrivermanager) (4.9.1)\n",
      "Requirement already satisfied, skipping upgrade: certifi>=2017.4.17 in /opt/anaconda3/lib/python3.8/site-packages (from requests->webdrivermanager) (2020.6.20)\n",
      "Requirement already satisfied, skipping upgrade: chardet<4,>=3.0.2 in /opt/anaconda3/lib/python3.8/site-packages (from requests->webdrivermanager) (3.0.4)\n",
      "Requirement already satisfied, skipping upgrade: urllib3!=1.25.0,!=1.25.1,<1.26,>=1.21.1 in /opt/anaconda3/lib/python3.8/site-packages (from requests->webdrivermanager) (1.25.9)\n",
      "Requirement already satisfied, skipping upgrade: idna<3,>=2.5 in /opt/anaconda3/lib/python3.8/site-packages (from requests->webdrivermanager) (2.10)\n",
      "Requirement already satisfied, skipping upgrade: soupsieve>1.2 in /opt/anaconda3/lib/python3.8/site-packages (from BeautifulSoup4->webdrivermanager) (2.0.1)\n",
      "Building wheels for collected packages: webdrivermanager\n",
      "  Building wheel for webdrivermanager (PEP 517) ... \u001b[?25ldone\n",
      "\u001b[?25h  Created wheel for webdrivermanager: filename=webdrivermanager-0.10.0-py2.py3-none-any.whl size=19525 sha256=7aabf3b88921d24a5665a414d19c523017fbf4ba83920c274b526cf961d42ae1\n",
      "  Stored in directory: /Users/ciaraspencer/Library/Caches/pip/wheels/0b/58/d2/e63a85783be8e0e25eb7499adab5a950cb90b1e682d8f790cb\n",
      "Successfully built webdrivermanager\n",
      "Installing collected packages: appdirs, webdrivermanager\n",
      "Successfully installed appdirs-1.4.4 webdrivermanager-0.10.0\n",
      "Note: you may need to restart the kernel to use updated packages.\n"
     ]
    }
   ],
   "source": [
    "pip install --upgrade webdrivermanager"
   ]
  },
  {
   "cell_type": "code",
   "execution_count": null,
   "metadata": {},
   "outputs": [],
   "source": [
    "#dependencies\n",
    "from bs4 import BeautifulSoup\n",
    "from splinter import Browser\n",
    "import requests\n",
    "import pandas as pd\n",
    "from webdriver_manager.chrome import ChromeDriverManager"
   ]
  },
  {
   "cell_type": "code",
   "execution_count": null,
   "metadata": {},
   "outputs": [],
   "source": [
    "#splinter\n",
    "executable_path = {'executable_path': ChromeDriverManager().install()}\n",
    "browser = Browser('chrome', **executable_path, headless=False)"
   ]
  },
  {
   "cell_type": "markdown",
   "metadata": {},
   "source": [
    "<h2>NASA Mars News</h2>"
   ]
  },
  {
   "cell_type": "code",
   "execution_count": 3,
   "metadata": {},
   "outputs": [],
   "source": [
    "url = 'https://mars.nasa.gov/news/?page=0&per_page=40&order=publish_date+desc%2Ccreated_at+desc&search=&category=19%2C165%2C184%2C204&blank_scope=Latest'\n",
    "browser.visit(url)"
   ]
  },
  {
   "cell_type": "code",
   "execution_count": 4,
   "metadata": {},
   "outputs": [
    {
     "name": "stdout",
     "output_type": "stream",
     "text": [
      "--------------\n",
      "NASA Begins Testing Robotics to Bring First Samples Back From Mars \n",
      "Engineers are developing the crucial hardware needed for a series of daring space missions that will be carried out in the coming decade.\n",
      "--------------\n",
      "Team Behind NASA's Newest Mars Rover to Honor Persevering Students\n",
      "Middle schoolers who have pushed past obstacles to reach their academic goals will be celebrated by the mission team with a personal message beamed down from NASA’s Perseverance rover.\n",
      "--------------\n",
      "NASA to Highlight New Science Findings, Missions During AGU Meeting\n",
      "NASA researchers and colleagues from around the world will present the latest findings on a range of Earth and space science topics at the annual American Geophysical Union (AGU) meeting, being held virtually and in New Orleans from Monday, Dec. 13, through Friday, Dec. 17. \n",
      "--------------\n",
      "NASA's Curiosity Rover Sends a Picture Postcard From Mars\n",
      "An artistic interpretation of Curiosity’s view high up on a Martian mountain was created by mission team members who were stunned by the sweeping landscape.\n",
      "--------------\n",
      "NASA's Perseverance Captures Challenging Flight by Mars Helicopter\n",
      "Recently downlinked imagery of a September flight has allowed the rover imaging team to put together a video of rotorcraft performing to near-perfection. \n",
      "--------------\n",
      "Twin of NASA's Perseverance Mars Rover Begins Terrain Tests\n",
      "OPTIMISM, the full-scale engineering model of Perseverance, begins a series of rigorous tests to assess the risk of potential driving hazards on the surface of the Red Planet.\n",
      "--------------\n",
      "How NASA's Curiosity Rover Is Making Mars Safer for Astronauts\n",
      "A radiation sensor aboard the spacecraft is providing new data on the health risks humans would face on the surface.\n",
      "--------------\n",
      "NASA's Jet Propulsion Laboratory Adds New Stops to Its Virtual Tour\n",
      "Now you can see the Mars Yard up close, roam the world-class Microdevices Lab, visit the shop where spacecraft parts are made, and stop into a clean room where spacecraft take shape.  \n",
      "--------------\n",
      "You Can Help Train NASA's Rovers to Better Explore Mars\n",
      "Members of the public can now help teach an artificial intelligence algorithm to recognize scientific features in images taken by NASA’s Perseverance rover.\n",
      "--------------\n",
      " 'Roving With Perseverance': NASA Mars Rover and Helicopter Models on Tour\n",
      "Catch Mars mania as a traveling exhibit visits more than a dozen towns across the U.S. with lifelike models of NASA’s Perseverance rover and Ingenuity helicopter.\n",
      "--------------\n",
      "Hear Sounds From Mars Captured by NASA's Perseverance Rover\n",
      "Two microphones aboard the six-wheeled spacecraft add a new dimension to the way scientists and engineers explore the Red Planet.\n",
      "--------------\n",
      "My Favorite Martian Image: the Ridges of 'South Séítah'\n",
      "NASA’s Perseverance rover captures a geologic feature with details that offer clues to the area’s mysterious past.\n",
      "--------------\n",
      "NASA Leadership Visits JPL, Discusses Climate Change and Mars\n",
      "NASA Administrator Bill Nelson and Deputy Administrator Pam Melroy met with elected officials about Earth science and visited mission control for the Perseverance Mars rover.\n",
      "--------------\n",
      "With First Martian Samples Packed, Perseverance Initiates Remarkable Sample Return Mission\n",
      "NASA, along with the European Space Agency, is developing a campaign to return the Martian samples to Earth.\n",
      "--------------\n",
      "NASA's Perseverance Sheds More Light on Jezero Crater's Watery Past\n",
      "Pictures from NASA’s latest six-wheeler on the Red Planet suggest the area’s history experienced significant flooding events.\n",
      "--------------\n",
      "NASA's Mars Fleet Lies Low with Sun Between Earth and Red Planet\n",
      "The missions will continue collecting data about the Red Planet, though engineers back on Earth will stop sending commands to them until mid-October.\n",
      "--------------\n",
      "NASA's Perseverance Rover Cameras Capture Mars Like Never Before\n",
      "Scientists tap into an array of imagers aboard the six-wheeled explorer to get a big picture of the Red Planet.\n",
      "--------------\n",
      "NASA's InSight Finds Three Big Marsquakes, Thanks to Solar-Panel Dusting\n",
      "The lander cleared enough dust from one solar panel to keep its seismometer on through the summer, allowing scientists to study the three biggest quakes they’ve seen on Mars.\n",
      "--------------\n",
      "NASA's Ingenuity Helicopter Captures a Mars Rock Feature in 3D \n",
      "The rotorcraft captures nuances of rocky outcrop during aerial reconnaissance.   \n",
      "\n",
      "--------------\n",
      "Take a 3D Spin on Mars and Track NASA's Perseverance Rover\n",
      "Two interactive web experiences let you explore the Martian surface, as seen by cameras aboard the rover and orbiters flying overhead.\n",
      "--------------\n",
      "Justin Simon Shepherds Perseverance Through First Phase of Martian Rock Sampling  \n",
      "The Johnson Space Center scientist was tasked with helping guide the way for mission’s first cored Mars rock sample.\n",
      "--------------\n",
      "NASA Confirms Thousands of Massive, Ancient Volcanic Eruptions on Mars \n",
      "Scientists found evidence that a region of northern Mars called Arabia Terra experienced thousands of \"super eruptions,\" the biggest volcanic eruptions known, over a 500-million-year period.\n",
      "--------------\n",
      "NASA's Perseverance Rover Collects Puzzle Pieces of Mars' History\n",
      "The rocks it has analyzed for sample collection are helping the team better understand a past marked by volcanic activity and water.\n",
      "--------------\n",
      "NASA Mars Mission Begins a New Chapter of Science With a New Leader\n",
      "Dr. Shannon Curry, planetary scientist and the deputy assistant director of planetary science at the Space Sciences Laboratory (SSL) at the University of California, Berkeley, has assumed leadership of NASA’s first mission devoted to studying the Martian atmosphere.\n",
      "--------------\n",
      "Mars Perseverance Team Members to Be Recognized at Hispanic Heritage Awards\n",
      "The three award recipients – Diana Trujillo, Christina Hernandez, and Clara O’Farrell – are engineers from the NASA rover team. \n",
      "--------------\n",
      "NASA to Host Briefing on Successful Sample Collection of Martian Rock\n",
      "Panelists will discuss the Perseverance rover’s successful collection of the sample and latest science analysis.\n",
      "--------------\n",
      "NASA's Perseverance Rover Collects First Mars Rock Sample\n",
      "The rock core is now enclosed in an airtight titanium sample tube, and will be available for retrieval in the future.\n",
      "--------------\n",
      "NASA's Perseverance Rover Successfully Cores Its First Rock\n",
      "Perseverance will obtain additional imagery of the sample tube before potentially completing the process of collecting its first scientifically-selected Mars sample.\n",
      "\n",
      "--------------\n",
      "NASA's Perseverance Plans Next Sample Attempt\n",
      "The rover will abrade a rock this week, allowing scientists and engineers to decide whether that target would withstand its powerful drill.\n",
      "--------------\n",
      "My Favorite Martian Image: Helicopter Sees Potential Rover Road Ahead\n",
      "Perseverance scientist impressed with aerial images of location considered for rover exploration.  \n",
      "--------------\n",
      "NASA's Curiosity Mars Rover Explores a Changing Landscape\n",
      "A new video rings in the rover’s ninth year on Mars, letting viewers tour Curiosity’s location on a Martian mountain.\n",
      "--------------\n",
      "Global Trio of Orbiters Shows Small Dust Storms Help Dry Out Mars\n",
      "By combining observations from three international spacecraft at Mars, scientists were able to show that regional dust storms play a huge role in drying out the Red Planet.\n",
      "--------------\n",
      "NASA's Ingenuity Mars Helicopter Spots Perseverance From Above\n",
      "Can you see NASA’s newest rover in this picture from Jezero Crater?\n",
      "--------------\n",
      "Aviation Week Awards NASA's Ingenuity Mars Helicopter With Laureate \n",
      "The prestigious honor recognizes the pioneering rotorcraft for its history-making flights on the Red Planet.\n",
      "--------------\n",
      "NASA's Perseverance Team Assessing First Mars Sampling Attempt\n",
      "The rover continues to explore Jezero Crater while the team assesses today’s activities.\n",
      "--------------\n",
      "Building a Mars Treasure Chest, One Test Tube at a Time\n",
      "This week, the Perseverance team here on Earth hopes to make scientific treasure hunting history on Mars.\n",
      "--------------\n",
      "My Favorite Martian Image: Helicopter Scouts Ridge Area for Perseverance\n",
      "A member of the Perseverance rover’s science team explains why the aerial image offers science advantages over ground-level images.\n",
      "--------------\n",
      "Clays, Not Water, Are Likely Source of Mars 'Lakes'\n",
      "Three studies published in the past month have cast doubt on the premise of subsurface lakes below the Martian south pole.\n",
      "--------------\n",
      "NASA's InSight Reveals the Deep Interior of Mars\n",
      "Three papers published today share new details on the crust, mantle, and molten core of the Red Planet.\n",
      "--------------\n",
      "NASA Perseverance Mars Rover to Acquire First Sample\n",
      "The six-wheeler’s science campaign has laid the groundwork for the mission’s next major milestone.\n"
     ]
    }
   ],
   "source": [
    "for x in range(1, 2):\n",
    "\n",
    "    html = browser.html\n",
    "    soup = BeautifulSoup(html, 'html.parser')\n",
    "\n",
    "    articles = soup.find_all('div', class_='list_text')\n",
    "\n",
    "    for article in articles:\n",
    "        \n",
    "        news_title = article.find('div', class_='content_title').text\n",
    "        news_p = article.find('div', class_='article_teaser_body').text\n",
    "        \n",
    "        print('--------------')\n",
    "        print(news_title)\n",
    "        print(news_p)\n"
   ]
  },
  {
   "cell_type": "markdown",
   "metadata": {},
   "source": [
    "<h2>JPL Mars Space Images - Featured Image</h2>"
   ]
  },
  {
   "cell_type": "code",
   "execution_count": 5,
   "metadata": {},
   "outputs": [],
   "source": [
    "jp_url = 'https://data-class-jpl-space.s3.amazonaws.com/JPL_Space/index.html'\n",
    "browser.visit(jp_url)"
   ]
  },
  {
   "cell_type": "code",
   "execution_count": 6,
   "metadata": {},
   "outputs": [
    {
     "name": "stdout",
     "output_type": "stream",
     "text": [
      "https://data-class-jpl-space.s3.amazonaws.com/JPL_Space/image/featured/mars1.jpg\n"
     ]
    }
   ],
   "source": [
    "#parsing featured image url\n",
    "html = browser.html\n",
    "soup = BeautifulSoup(html, 'html.parser')\n",
    "\n",
    "main = soup.find('div', class_='header')\n",
    "img = main.find_all('img', class_='headerimage fade-in')\n",
    "\n",
    "for src in img:\n",
    "    src=src.get('src')\n",
    "\n",
    "featured_image_url = jp_url.replace('index.html', src)\n",
    "print(featured_image_url)\n"
   ]
  },
  {
   "cell_type": "markdown",
   "metadata": {},
   "source": [
    "<h2>Mars Facts</h2>"
   ]
  },
  {
   "cell_type": "code",
   "execution_count": 7,
   "metadata": {},
   "outputs": [],
   "source": [
    "facts_url = 'https://space-facts.com/mars/'"
   ]
  },
  {
   "cell_type": "code",
   "execution_count": 8,
   "metadata": {},
   "outputs": [
    {
     "data": {
      "text/plain": [
       "[                      0                              1\n",
       " 0  Equatorial Diameter:                       6,792 km\n",
       " 1       Polar Diameter:                       6,752 km\n",
       " 2                 Mass:  6.39 × 10^23 kg (0.11 Earths)\n",
       " 3                Moons:            2 (Phobos & Deimos)\n",
       " 4       Orbit Distance:       227,943,824 km (1.38 AU)\n",
       " 5         Orbit Period:           687 days (1.9 years)\n",
       " 6  Surface Temperature:                   -87 to -5 °C\n",
       " 7         First Record:              2nd millennium BC\n",
       " 8          Recorded By:           Egyptian astronomers,\n",
       "   Mars - Earth Comparison             Mars            Earth\n",
       " 0               Diameter:         6,779 km        12,742 km\n",
       " 1                   Mass:  6.39 × 10^23 kg  5.97 × 10^24 kg\n",
       " 2                  Moons:                2                1\n",
       " 3      Distance from Sun:   227,943,824 km   149,598,262 km\n",
       " 4         Length of Year:   687 Earth days      365.24 days\n",
       " 5            Temperature:     -87 to -5 °C      -88 to 58°C,\n",
       "                       0                              1\n",
       " 0  Equatorial Diameter:                       6,792 km\n",
       " 1       Polar Diameter:                       6,752 km\n",
       " 2                 Mass:  6.39 × 10^23 kg (0.11 Earths)\n",
       " 3                Moons:            2 (Phobos & Deimos)\n",
       " 4       Orbit Distance:       227,943,824 km (1.38 AU)\n",
       " 5         Orbit Period:           687 days (1.9 years)\n",
       " 6  Surface Temperature:                   -87 to -5 °C\n",
       " 7         First Record:              2nd millennium BC\n",
       " 8          Recorded By:           Egyptian astronomers]"
      ]
     },
     "execution_count": 8,
     "metadata": {},
     "output_type": "execute_result"
    }
   ],
   "source": [
    "#pandas convert mars facts url to html table\n",
    "table = pd.read_html(facts_url)\n",
    "table"
   ]
  },
  {
   "cell_type": "code",
   "execution_count": 9,
   "metadata": {},
   "outputs": [
    {
     "data": {
      "text/html": [
       "<div>\n",
       "<style scoped>\n",
       "    .dataframe tbody tr th:only-of-type {\n",
       "        vertical-align: middle;\n",
       "    }\n",
       "\n",
       "    .dataframe tbody tr th {\n",
       "        vertical-align: top;\n",
       "    }\n",
       "\n",
       "    .dataframe thead th {\n",
       "        text-align: right;\n",
       "    }\n",
       "</style>\n",
       "<table border=\"1\" class=\"dataframe\">\n",
       "  <thead>\n",
       "    <tr style=\"text-align: right;\">\n",
       "      <th></th>\n",
       "      <th></th>\n",
       "    </tr>\n",
       "    <tr>\n",
       "      <th>Mars</th>\n",
       "      <th></th>\n",
       "    </tr>\n",
       "  </thead>\n",
       "  <tbody>\n",
       "    <tr>\n",
       "      <th>Equatorial Diameter:</th>\n",
       "      <td>6,792 km</td>\n",
       "    </tr>\n",
       "    <tr>\n",
       "      <th>Polar Diameter:</th>\n",
       "      <td>6,752 km</td>\n",
       "    </tr>\n",
       "    <tr>\n",
       "      <th>Mass:</th>\n",
       "      <td>6.39 × 10^23 kg (0.11 Earths)</td>\n",
       "    </tr>\n",
       "    <tr>\n",
       "      <th>Moons:</th>\n",
       "      <td>2 (Phobos &amp; Deimos)</td>\n",
       "    </tr>\n",
       "    <tr>\n",
       "      <th>Orbit Distance:</th>\n",
       "      <td>227,943,824 km (1.38 AU)</td>\n",
       "    </tr>\n",
       "    <tr>\n",
       "      <th>Orbit Period:</th>\n",
       "      <td>687 days (1.9 years)</td>\n",
       "    </tr>\n",
       "    <tr>\n",
       "      <th>Surface Temperature:</th>\n",
       "      <td>-87 to -5 °C</td>\n",
       "    </tr>\n",
       "    <tr>\n",
       "      <th>First Record:</th>\n",
       "      <td>2nd millennium BC</td>\n",
       "    </tr>\n",
       "    <tr>\n",
       "      <th>Recorded By:</th>\n",
       "      <td>Egyptian astronomers</td>\n",
       "    </tr>\n",
       "  </tbody>\n",
       "</table>\n",
       "</div>"
      ],
      "text/plain": [
       "                                                   \n",
       "Mars                                               \n",
       "Equatorial Diameter:                       6,792 km\n",
       "Polar Diameter:                            6,752 km\n",
       "Mass:                 6.39 × 10^23 kg (0.11 Earths)\n",
       "Moons:                          2 (Phobos & Deimos)\n",
       "Orbit Distance:            227,943,824 km (1.38 AU)\n",
       "Orbit Period:                  687 days (1.9 years)\n",
       "Surface Temperature:                   -87 to -5 °C\n",
       "First Record:                     2nd millennium BC\n",
       "Recorded By:                   Egyptian astronomers"
      ]
     },
     "execution_count": 9,
     "metadata": {},
     "output_type": "execute_result"
    }
   ],
   "source": [
    "facts_table = table[0]\n",
    "facts_table.columns = [\"Mars\", \"\"]\n",
    "facts_table.set_index(\"Mars\", inplace=True)\n",
    "facts_table"
   ]
  },
  {
   "cell_type": "code",
   "execution_count": 10,
   "metadata": {},
   "outputs": [
    {
     "data": {
      "text/plain": [
       "'<table border=\"1\" class=\"dataframe\">  <thead>    <tr style=\"text-align: left;\">      <th></th>      <th></th>    </tr>    <tr>      <th>Mars</th>      <th></th>    </tr>  </thead>  <tbody>    <tr>      <th>Equatorial Diameter:</th>      <td>6,792 km</td>    </tr>    <tr>      <th>Polar Diameter:</th>      <td>6,752 km</td>    </tr>    <tr>      <th>Mass:</th>      <td>6.39 × 10^23 kg (0.11 Earths)</td>    </tr>    <tr>      <th>Moons:</th>      <td>2 (Phobos &amp; Deimos)</td>    </tr>    <tr>      <th>Orbit Distance:</th>      <td>227,943,824 km (1.38 AU)</td>    </tr>    <tr>      <th>Orbit Period:</th>      <td>687 days (1.9 years)</td>    </tr>    <tr>      <th>Surface Temperature:</th>      <td>-87 to -5 °C</td>    </tr>    <tr>      <th>First Record:</th>      <td>2nd millennium BC</td>    </tr>    <tr>      <th>Recorded By:</th>      <td>Egyptian astronomers</td>    </tr>  </tbody></table>'"
      ]
     },
     "execution_count": 10,
     "metadata": {},
     "output_type": "execute_result"
    }
   ],
   "source": [
    "html_table = facts_table.to_html(index=True, header=True, border=1, justify=\"left\")\n",
    "html_table.replace(\"\\n\", \"\")"
   ]
  },
  {
   "cell_type": "markdown",
   "metadata": {},
   "source": [
    "<h2>Mars Hemispheres</h2>"
   ]
  },
  {
   "cell_type": "code",
   "execution_count": 11,
   "metadata": {},
   "outputs": [],
   "source": [
    "#cerberus hemisphere browser\n",
    "main_url = 'https://astrogeology.usgs.gov/'\n",
    "hemispheres_url = 'https://astrogeology.usgs.gov/search/results?q=hemisphere+enhanced&k1=target&v1=Mars'\n",
    "browser.visit(hemispheres_url)"
   ]
  },
  {
   "cell_type": "code",
   "execution_count": 12,
   "metadata": {},
   "outputs": [
    {
     "name": "stdout",
     "output_type": "stream",
     "text": [
      "[<div class=\"item\"><a class=\"itemLink product-item\" href=\"/search/map/Mars/Viking/cerberus_enhanced\"><img alt=\"Cerberus Hemisphere Enhanced thumbnail\" class=\"thumb\" src=\"/cache/images/39d3266553462198bd2fbc4d18fbed17_cerberus_enhanced.tif_thumb.png\"/></a><div class=\"description\"><a class=\"itemLink product-item\" href=\"/search/map/Mars/Viking/cerberus_enhanced\"><h3>Cerberus Hemisphere Enhanced</h3></a><span class=\"subtitle\" style=\"float:left\">image/tiff 21 MB</span><span class=\"pubDate\" style=\"float:right\"></span><br/><p>Mosaic of the Cerberus hemisphere of Mars projected into point perspective, a view similar to that which one would see from a spacecraft. This mosaic is composed of 104 Viking Orbiter images acquired…</p></div> <!-- end description --></div>, <div class=\"item\"><a class=\"itemLink product-item\" href=\"/search/map/Mars/Viking/schiaparelli_enhanced\"><img alt=\"Schiaparelli Hemisphere Enhanced thumbnail\" class=\"thumb\" src=\"/cache/images/08eac6e22c07fb1fe72223a79252de20_schiaparelli_enhanced.tif_thumb.png\"/></a><div class=\"description\"><a class=\"itemLink product-item\" href=\"/search/map/Mars/Viking/schiaparelli_enhanced\"><h3>Schiaparelli Hemisphere Enhanced</h3></a><span class=\"subtitle\" style=\"float:left\">image/tiff 35 MB</span><span class=\"pubDate\" style=\"float:right\"></span><br/><p>Mosaic of the Schiaparelli hemisphere of Mars projected into point perspective, a view similar to that which one would see from a spacecraft. The images were acquired in 1980 during early northern…</p></div> <!-- end description --></div>, <div class=\"item\"><a class=\"itemLink product-item\" href=\"/search/map/Mars/Viking/syrtis_major_enhanced\"><img alt=\"Syrtis Major Hemisphere Enhanced thumbnail\" class=\"thumb\" src=\"/cache/images/55a0a1e2796313fdeafb17c35925e8ac_syrtis_major_enhanced.tif_thumb.png\"/></a><div class=\"description\"><a class=\"itemLink product-item\" href=\"/search/map/Mars/Viking/syrtis_major_enhanced\"><h3>Syrtis Major Hemisphere Enhanced</h3></a><span class=\"subtitle\" style=\"float:left\">image/tiff 25 MB</span><span class=\"pubDate\" style=\"float:right\"></span><br/><p>Mosaic of the Syrtis Major hemisphere of Mars projected into point perspective, a view similar to that which one would see from a spacecraft. This mosaic is composed of about 100 red and violet…</p></div> <!-- end description --></div>, <div class=\"item\"><a class=\"itemLink product-item\" href=\"/search/map/Mars/Viking/valles_marineris_enhanced\"><img alt=\"Valles Marineris Hemisphere Enhanced thumbnail\" class=\"thumb\" src=\"/cache/images/4e59980c1c57f89c680c0e1ccabbeff1_valles_marineris_enhanced.tif_thumb.png\"/></a><div class=\"description\"><a class=\"itemLink product-item\" href=\"/search/map/Mars/Viking/valles_marineris_enhanced\"><h3>Valles Marineris Hemisphere Enhanced</h3></a><span class=\"subtitle\" style=\"float:left\">image/tiff 27 MB</span><span class=\"pubDate\" style=\"float:right\"></span><br/><p>Mosaic of the Valles Marineris hemisphere of Mars projected into point perspective, a view similar to that which one would see from a spacecraft. The distance is 2500 kilometers from the surface of…</p></div> <!-- end description --></div>]\n"
     ]
    }
   ],
   "source": [
    "#hemisphere title parse\n",
    "html = browser.html\n",
    "soup = BeautifulSoup(html, 'html.parser')\n",
    "\n",
    "section = soup.find('div', class_='collapsible results')\n",
    "hemispheres = section.find_all('div', class_='item')\n",
    "\n",
    "print(hemispheres)"
   ]
  },
  {
   "cell_type": "code",
   "execution_count": 13,
   "metadata": {},
   "outputs": [],
   "source": [
    "mars_urls = []\n",
    "for hems in hemispheres:\n",
    "    titles = hems.find('h3').text\n",
    "    \n",
    "    url_ext = hems.find('a')['href']\n",
    "    browser.visit(main_url+url_ext)\n",
    "    \n",
    "    url_html = browser.html\n",
    "    soup = BeautifulSoup(url_html, 'html.parser')\n",
    "    \n",
    "    img_list = soup.find('li')\n",
    "    img_url = img_list.find('a')['href']\n",
    "\n",
    "    mars_urls.append({\"title\" : titles, \"img_url\" : img_url})"
   ]
  },
  {
   "cell_type": "code",
   "execution_count": 14,
   "metadata": {},
   "outputs": [
    {
     "data": {
      "text/plain": [
       "[{'title': 'Cerberus Hemisphere Enhanced',\n",
       "  'img_url': 'https://astropedia.astrogeology.usgs.gov/download/Mars/Viking/cerberus_enhanced.tif/full.jpg'},\n",
       " {'title': 'Schiaparelli Hemisphere Enhanced',\n",
       "  'img_url': 'https://astropedia.astrogeology.usgs.gov/download/Mars/Viking/schiaparelli_enhanced.tif/full.jpg'},\n",
       " {'title': 'Syrtis Major Hemisphere Enhanced',\n",
       "  'img_url': 'https://astropedia.astrogeology.usgs.gov/download/Mars/Viking/syrtis_major_enhanced.tif/full.jpg'},\n",
       " {'title': 'Valles Marineris Hemisphere Enhanced',\n",
       "  'img_url': 'https://astropedia.astrogeology.usgs.gov/download/Mars/Viking/valles_marineris_enhanced.tif/full.jpg'}]"
      ]
     },
     "execution_count": 14,
     "metadata": {},
     "output_type": "execute_result"
    }
   ],
   "source": [
    "mars_urls"
   ]
  },
  {
   "cell_type": "markdown",
   "metadata": {},
   "source": [
    "final dict for app needs to contain mars_dict &:"
   ]
  },
  {
   "cell_type": "code",
   "execution_count": 15,
   "metadata": {},
   "outputs": [
    {
     "data": {
      "text/plain": [
       "{'hemispheres_imgs': [{'title': 'Cerberus Hemisphere Enhanced',\n",
       "   'img_url': 'https://astropedia.astrogeology.usgs.gov/download/Mars/Viking/cerberus_enhanced.tif/full.jpg'},\n",
       "  {'title': 'Schiaparelli Hemisphere Enhanced',\n",
       "   'img_url': 'https://astropedia.astrogeology.usgs.gov/download/Mars/Viking/schiaparelli_enhanced.tif/full.jpg'},\n",
       "  {'title': 'Syrtis Major Hemisphere Enhanced',\n",
       "   'img_url': 'https://astropedia.astrogeology.usgs.gov/download/Mars/Viking/syrtis_major_enhanced.tif/full.jpg'},\n",
       "  {'title': 'Valles Marineris Hemisphere Enhanced',\n",
       "   'img_url': 'https://astropedia.astrogeology.usgs.gov/download/Mars/Viking/valles_marineris_enhanced.tif/full.jpg'}],\n",
       " 'title': 'NASA Perseverance Mars Rover to Acquire First Sample',\n",
       " 'news_p': 'The six-wheeler’s science campaign has laid the groundwork for the mission’s next major milestone.',\n",
       " 'featured_img': 'https://data-class-jpl-space.s3.amazonaws.com/JPL_Space/image/featured/mars1.jpg',\n",
       " 'facts_table': '<table border=\"1\" class=\"dataframe\">\\n  <thead>\\n    <tr style=\"text-align: left;\">\\n      <th></th>\\n      <th></th>\\n    </tr>\\n    <tr>\\n      <th>Mars</th>\\n      <th></th>\\n    </tr>\\n  </thead>\\n  <tbody>\\n    <tr>\\n      <th>Equatorial Diameter:</th>\\n      <td>6,792 km</td>\\n    </tr>\\n    <tr>\\n      <th>Polar Diameter:</th>\\n      <td>6,752 km</td>\\n    </tr>\\n    <tr>\\n      <th>Mass:</th>\\n      <td>6.39 × 10^23 kg (0.11 Earths)</td>\\n    </tr>\\n    <tr>\\n      <th>Moons:</th>\\n      <td>2 (Phobos &amp; Deimos)</td>\\n    </tr>\\n    <tr>\\n      <th>Orbit Distance:</th>\\n      <td>227,943,824 km (1.38 AU)</td>\\n    </tr>\\n    <tr>\\n      <th>Orbit Period:</th>\\n      <td>687 days (1.9 years)</td>\\n    </tr>\\n    <tr>\\n      <th>Surface Temperature:</th>\\n      <td>-87 to -5 °C</td>\\n    </tr>\\n    <tr>\\n      <th>First Record:</th>\\n      <td>2nd millennium BC</td>\\n    </tr>\\n    <tr>\\n      <th>Recorded By:</th>\\n      <td>Egyptian astronomers</td>\\n    </tr>\\n  </tbody>\\n</table>'}"
      ]
     },
     "execution_count": 15,
     "metadata": {},
     "output_type": "execute_result"
    }
   ],
   "source": [
    "mars_dict = {\n",
    "    'hemispheres_imgs':mars_urls,\n",
    "    'title':news_title,\n",
    "    'news_p':news_p,\n",
    "    'featured_img':featured_image_url,\n",
    "    'facts_table': html_table\n",
    "}\n",
    "\n",
    "mars_dict"
   ]
  },
  {
   "cell_type": "markdown",
   "metadata": {},
   "source": [
    "notes: either need to create a for loop that loops through each pages url and parses out information for each hemisphere at the end, or run separate parses for each hemisphere. Former is preferable. "
   ]
  },
  {
   "cell_type": "code",
   "execution_count": 16,
   "metadata": {},
   "outputs": [],
   "source": [
    "#mongo db set-up\n",
    "import pymongo"
   ]
  },
  {
   "cell_type": "code",
   "execution_count": 17,
   "metadata": {},
   "outputs": [
    {
     "name": "stdout",
     "output_type": "stream",
     "text": [
      "Data Uploaded\n"
     ]
    }
   ],
   "source": [
    "conn = \"mongodb://localhost:27017\"\n",
    "client = pymongo.MongoClient(conn)\n",
    "\n",
    "#db\n",
    "db = client.mars_db\n",
    "\n",
    "#collection \n",
    "mars_data = db.mars_data\n",
    "\n",
    "#insert dictionaries\n",
    "mars_data.insert_one(mars_dict)\n",
    "\n",
    "print(\"Data Uploaded\")"
   ]
  },
  {
   "cell_type": "code",
   "execution_count": null,
   "metadata": {},
   "outputs": [],
   "source": []
  }
 ],
 "metadata": {
  "kernelspec": {
   "display_name": "Python 3",
   "language": "python",
   "name": "python3"
  },
  "language_info": {
   "codemirror_mode": {
    "name": "ipython",
    "version": 3
   },
   "file_extension": ".py",
   "mimetype": "text/x-python",
   "name": "python",
   "nbconvert_exporter": "python",
   "pygments_lexer": "ipython3",
   "version": "3.8.3"
  }
 },
 "nbformat": 4,
 "nbformat_minor": 4
}
